{
 "cells": [
  {
   "cell_type": "code",
   "execution_count": 2,
   "id": "8fb221bf",
   "metadata": {},
   "outputs": [
    {
     "name": "stdout",
     "output_type": "stream",
     "text": [
      "Starting Spark application\n"
     ]
    },
    {
     "data": {
      "text/html": [
       "<table>\n",
       "<tr><th>ID</th><th>YARN Application ID</th><th>Kind</th><th>State</th><th>Spark UI</th><th>Driver log</th><th>User</th><th>Current session?</th></tr><tr><td>1</td><td>application_1700679319815_0002</td><td>pyspark</td><td>idle</td><td><a target=\"_blank\" href=\"http://ip-172-31-42-126.ec2.internal:20888/proxy/application_1700679319815_0002/\">Link</a></td><td><a target=\"_blank\" href=\"http://ip-172-31-45-8.ec2.internal:8042/node/containerlogs/container_1700679319815_0002_01_000001/livy\">Link</a></td><td>None</td><td>✔</td></tr></table>"
      ],
      "text/plain": [
       "<IPython.core.display.HTML object>"
      ]
     },
     "metadata": {},
     "output_type": "display_data"
    },
    {
     "data": {
      "application/vnd.jupyter.widget-view+json": {
       "model_id": "",
       "version_major": 2,
       "version_minor": 0
      },
      "text/plain": [
       "FloatProgress(value=0.0, bar_style='info', description='Progress:', layout=Layout(height='25px', width='50%'),…"
      ]
     },
     "metadata": {},
     "output_type": "display_data"
    },
    {
     "name": "stdout",
     "output_type": "stream",
     "text": [
      "SparkSession available as 'spark'.\n"
     ]
    },
    {
     "data": {
      "application/vnd.jupyter.widget-view+json": {
       "model_id": "",
       "version_major": 2,
       "version_minor": 0
      },
      "text/plain": [
       "FloatProgress(value=0.0, bar_style='info', description='Progress:', layout=Layout(height='25px', width='50%'),…"
      ]
     },
     "metadata": {},
     "output_type": "display_data"
    },
    {
     "name": "stdout",
     "output_type": "stream",
     "text": [
      "<pyspark.sql.session.SparkSession object at 0x7f3e9ef69d90>"
     ]
    }
   ],
   "source": [
    "spark"
   ]
  },
  {
   "cell_type": "code",
   "execution_count": 3,
   "id": "f872106f",
   "metadata": {},
   "outputs": [
    {
     "data": {
      "application/vnd.jupyter.widget-view+json": {
       "model_id": "",
       "version_major": 2,
       "version_minor": 0
      },
      "text/plain": [
       "FloatProgress(value=0.0, bar_style='info', description='Progress:', layout=Layout(height='25px', width='50%'),…"
      ]
     },
     "metadata": {},
     "output_type": "display_data"
    },
    {
     "name": "stdout",
     "output_type": "stream",
     "text": [
      "<SparkContext master=yarn appName=livy-session-1>"
     ]
    }
   ],
   "source": [
    "sc"
   ]
  },
  {
   "cell_type": "code",
   "execution_count": 5,
   "id": "904e7f3b",
   "metadata": {},
   "outputs": [
    {
     "data": {
      "application/vnd.jupyter.widget-view+json": {
       "model_id": "",
       "version_major": 2,
       "version_minor": 0
      },
      "text/plain": [
       "FloatProgress(value=0.0, bar_style='info', description='Progress:', layout=Layout(height='25px', width='50%'),…"
      ]
     },
     "metadata": {},
     "output_type": "display_data"
    }
   ],
   "source": [
    "%pyspark\n",
    "data_frame=spark.read.csv('s3://ebernalcdatalake/raw/datasets/covid19/Casos_positivos_de_COVID-19_en_Colombia-1K.csv',inferSchema=True,header=True)"
   ]
  },
  {
   "cell_type": "code",
   "execution_count": 9,
   "id": "eded7066",
   "metadata": {},
   "outputs": [
    {
     "data": {
      "application/vnd.jupyter.widget-view+json": {
       "model_id": "",
       "version_major": 2,
       "version_minor": 0
      },
      "text/plain": [
       "FloatProgress(value=0.0, bar_style='info', description='Progress:', layout=Layout(height='25px', width='50%'),…"
      ]
     },
     "metadata": {},
     "output_type": "display_data"
    },
    {
     "name": "stdout",
     "output_type": "stream",
     "text": [
      "[('fecha reporte web', 'string'), ('ID de caso', 'int'), ('Fecha de notificación', 'string'), ('Código DIVIPOLA departamento', 'int'), ('Nombre departamento', 'string'), ('Código DIVIPOLA municipio', 'int'), ('Nombre municipio', 'string'), ('Edad', 'int'), ('Unidad de medida de edad', 'int'), ('Sexo', 'string'), ('Tipo de contagio', 'string'), ('Ubicación del caso', 'string'), ('Estado', 'string'), ('Código ISO del país', 'int'), ('Nombre del país', 'string'), ('Recuperado', 'string'), ('Fecha de inicio de síntomas', 'string'), ('Fecha de muerte', 'string'), ('Fecha de diagnóstico', 'string'), ('Fecha de recuperación', 'string'), ('Tipo de recuperación', 'string'), ('Pertenencia étnica', 'int'), ('Nombre del grupo étnico', 'string')]"
     ]
    }
   ],
   "source": [
    "%pyspark\n",
    "print(data_frame.dtypes)"
   ]
  },
  {
   "cell_type": "code",
   "execution_count": 26,
   "id": "4799f17e",
   "metadata": {},
   "outputs": [
    {
     "data": {
      "application/vnd.jupyter.widget-view+json": {
       "model_id": "",
       "version_major": 2,
       "version_minor": 0
      },
      "text/plain": [
       "FloatProgress(value=0.0, bar_style='info', description='Progress:', layout=Layout(height='25px', width='50%'),…"
      ]
     },
     "metadata": {},
     "output_type": "display_data"
    },
    {
     "name": "stdout",
     "output_type": "stream",
     "text": [
      "+-------------------+\n",
      "|Nombre departamento|\n",
      "+-------------------+\n",
      "|             BOGOTA|\n",
      "|              VALLE|\n",
      "|          ANTIOQUIA|\n",
      "|          ANTIOQUIA|\n",
      "|          ANTIOQUIA|\n",
      "|          ANTIOQUIA|\n",
      "|          CARTAGENA|\n",
      "|             BOGOTA|\n",
      "|             BOGOTA|\n",
      "|             BOGOTA|\n",
      "|             BOGOTA|\n",
      "|              HUILA|\n",
      "|              HUILA|\n",
      "|              VALLE|\n",
      "|               META|\n",
      "|             BOGOTA|\n",
      "|             BOGOTA|\n",
      "|             BOGOTA|\n",
      "|             BOGOTA|\n",
      "|          ANTIOQUIA|\n",
      "+-------------------+\n",
      "only showing top 20 rows"
     ]
    }
   ],
   "source": [
    "%pyspark\n",
    "data_frame.select('Nombre departamento').show()"
   ]
  },
  {
   "cell_type": "code",
   "execution_count": 11,
   "id": "def0dda4",
   "metadata": {},
   "outputs": [
    {
     "data": {
      "application/vnd.jupyter.widget-view+json": {
       "model_id": "",
       "version_major": 2,
       "version_minor": 0
      },
      "text/plain": [
       "FloatProgress(value=0.0, bar_style='info', description='Progress:', layout=Layout(height='25px', width='50%'),…"
      ]
     },
     "metadata": {},
     "output_type": "display_data"
    }
   ],
   "source": [
    "%pyspark\n",
    "data_frame = data_frame.withColumnRenamed('ID de caso', 'id de caso')"
   ]
  },
  {
   "cell_type": "code",
   "execution_count": 13,
   "id": "2de67c0e",
   "metadata": {},
   "outputs": [
    {
     "data": {
      "application/vnd.jupyter.widget-view+json": {
       "model_id": "",
       "version_major": 2,
       "version_minor": 0
      },
      "text/plain": [
       "FloatProgress(value=0.0, bar_style='info', description='Progress:', layout=Layout(height='25px', width='50%'),…"
      ]
     },
     "metadata": {},
     "output_type": "display_data"
    },
    {
     "name": "stdout",
     "output_type": "stream",
     "text": [
      "+----------+\n",
      "|id de caso|\n",
      "+----------+\n",
      "|         1|\n",
      "|         2|\n",
      "|         3|\n",
      "|         4|\n",
      "|         5|\n",
      "|         6|\n",
      "|         7|\n",
      "|         8|\n",
      "|         9|\n",
      "|        10|\n",
      "|        11|\n",
      "|        12|\n",
      "|        13|\n",
      "|        14|\n",
      "|        15|\n",
      "|        16|\n",
      "|        17|\n",
      "|        18|\n",
      "|        19|\n",
      "|        20|\n",
      "+----------+\n",
      "only showing top 20 rows"
     ]
    }
   ],
   "source": [
    "%pyspark\n",
    "data_frame.select('id de caso').show()"
   ]
  },
  {
   "cell_type": "code",
   "execution_count": 18,
   "id": "6328b2ee",
   "metadata": {},
   "outputs": [
    {
     "data": {
      "application/vnd.jupyter.widget-view+json": {
       "model_id": "",
       "version_major": 2,
       "version_minor": 0
      },
      "text/plain": [
       "FloatProgress(value=0.0, bar_style='info', description='Progress:', layout=Layout(height='25px', width='50%'),…"
      ]
     },
     "metadata": {},
     "output_type": "display_data"
    },
    {
     "name": "stdout",
     "output_type": "stream",
     "text": [
      "+-------------------+-----------+\n",
      "|Nombre departamento|total_cases|\n",
      "+-------------------+-----------+\n",
      "|             BOGOTA|        401|\n",
      "|              VALLE|        148|\n",
      "|          ANTIOQUIA|        106|\n",
      "|       CUNDINAMARCA|         49|\n",
      "|          CARTAGENA|         39|\n",
      "|          RISARALDA|         34|\n",
      "|       BARRANQUILLA|         31|\n",
      "|              HUILA|         30|\n",
      "|            QUINDIO|         23|\n",
      "|    NORTE SANTANDER|         19|\n",
      "+-------------------+-----------+"
     ]
    }
   ],
   "source": [
    "%pyspark\n",
    "from pyspark.sql import functions as F\n",
    "department_case_counts = data_frame.groupBy('Nombre departamento').agg(F.count('*').alias('total_cases'))\n",
    "\n",
    "top_departments = department_case_counts.sort(F.col('total_cases').desc()).limit(10)\n",
    "top_departments.show()"
   ]
  },
  {
   "cell_type": "code",
   "execution_count": 21,
   "id": "37172599",
   "metadata": {},
   "outputs": [
    {
     "data": {
      "application/vnd.jupyter.widget-view+json": {
       "model_id": "",
       "version_major": 2,
       "version_minor": 0
      },
      "text/plain": [
       "FloatProgress(value=0.0, bar_style='info', description='Progress:', layout=Layout(height='25px', width='50%'),…"
      ]
     },
     "metadata": {},
     "output_type": "display_data"
    },
    {
     "name": "stdout",
     "output_type": "stream",
     "text": [
      "+-----------------+-----------+\n",
      "|fecha reporte web|total_cases|\n",
      "+-----------------+-----------+\n",
      "|31/3/2020 0:00:00|        107|\n",
      "|24/3/2020 0:00:00|        105|\n",
      "|30/3/2020 0:00:00|         96|\n",
      "| 1/4/2020 0:00:00|         95|\n",
      "|29/3/2020 0:00:00|         94|\n",
      "|23/3/2020 0:00:00|         73|\n",
      "|28/3/2020 0:00:00|         69|\n",
      "|25/3/2020 0:00:00|         61|\n",
      "|27/3/2020 0:00:00|         49|\n",
      "|20/3/2020 0:00:00|         48|\n",
      "+-----------------+-----------+"
     ]
    }
   ],
   "source": [
    "%pyspark\n",
    "daily_cases = data_frame.groupBy('fecha reporte web').agg(F.count('*').alias('total_cases'))\n",
    "top_days = daily_cases.sort(F.col('total_cases').desc()).limit(10)\n",
    "\n",
    "top_days.show()"
   ]
  },
  {
   "cell_type": "code",
   "execution_count": 22,
   "id": "a8ca4fa1",
   "metadata": {},
   "outputs": [
    {
     "data": {
      "application/vnd.jupyter.widget-view+json": {
       "model_id": "",
       "version_major": 2,
       "version_minor": 0
      },
      "text/plain": [
       "FloatProgress(value=0.0, bar_style='info', description='Progress:', layout=Layout(height='25px', width='50%'),…"
      ]
     },
     "metadata": {},
     "output_type": "display_data"
    },
    {
     "name": "stdout",
     "output_type": "stream",
     "text": [
      "+----------------+-----------+\n",
      "|Nombre municipio|total_cases|\n",
      "+----------------+-----------+\n",
      "|          BOGOTA|        401|\n",
      "|            CALI|        101|\n",
      "|        MEDELLIN|         63|\n",
      "|       CARTAGENA|         39|\n",
      "|    BARRANQUILLA|         31|\n",
      "|           NEIVA|         27|\n",
      "|         PEREIRA|         25|\n",
      "|         PALMIRA|         22|\n",
      "|      VALLEDUPAR|         16|\n",
      "|         ARMENIA|         15|\n",
      "+----------------+-----------+"
     ]
    }
   ],
   "source": [
    "%pyspark\n",
    "cases_municipio = data_frame.groupBy('Nombre municipio').agg(F.count('*').alias('total_cases'))\n",
    "orderd = cases_municipio.sort(F.col('total_cases').desc()).limit(10)\n",
    "\n",
    "orderd.show()"
   ]
  },
  {
   "cell_type": "code",
   "execution_count": 25,
   "id": "d594b144",
   "metadata": {},
   "outputs": [
    {
     "data": {
      "application/vnd.jupyter.widget-view+json": {
       "model_id": "",
       "version_major": 2,
       "version_minor": 0
      },
      "text/plain": [
       "FloatProgress(value=0.0, bar_style='info', description='Progress:', layout=Layout(height='25px', width='50%'),…"
      ]
     },
     "metadata": {},
     "output_type": "display_data"
    },
    {
     "name": "stdout",
     "output_type": "stream",
     "text": [
      "+----+--------------+\n",
      "|Edad|Edad categoria|\n",
      "+----+--------------+\n",
      "|  19|         Joven|\n",
      "|  34|         Joven|\n",
      "|  50|         Joven|\n",
      "|  55|         Viejo|\n",
      "|  25|         Joven|\n",
      "|  27|         Joven|\n",
      "|  85|         Viejo|\n",
      "|  22|         Joven|\n",
      "|  28|         Joven|\n",
      "|  36|         Joven|\n",
      "|  42|         Joven|\n",
      "|  74|         Viejo|\n",
      "|  68|         Viejo|\n",
      "|  48|         Joven|\n",
      "|  30|         Joven|\n",
      "|  61|         Viejo|\n",
      "|  73|         Viejo|\n",
      "|  54|         Viejo|\n",
      "|  54|         Viejo|\n",
      "|  26|         Joven|\n",
      "+----+--------------+\n",
      "only showing top 20 rows"
     ]
    }
   ],
   "source": [
    "%pyspark\n",
    "from pyspark.sql.functions import udf\n",
    "from pyspark.sql.types import StringType\n",
    "\n",
    "\n",
    "def classify_age(edad):\n",
    "    if edad > 50:\n",
    "        return 'Viejo'\n",
    "    else:\n",
    "        return 'Joven'\n",
    "\n",
    "\n",
    "classify_age_udf = udf(classify_age, StringType())\n",
    "\n",
    "\n",
    "df_with_age_category = data_frame.withColumn('Edad categoria', classify_age_udf(data_frame['Edad']))\n",
    "\n",
    "\n",
    "df_with_age_category.select('Edad', 'Edad categoria').show()"
   ]
  }
 ],
 "metadata": {
  "kernelspec": {
   "display_name": "PySpark",
   "language": "python",
   "name": "pysparkkernel"
  },
  "language_info": {
   "codemirror_mode": {
    "name": "python",
    "version": 3
   },
   "file_extension": ".py",
   "mimetype": "text/x-python",
   "name": "pyspark",
   "pygments_lexer": "python3"
  }
 },
 "nbformat": 4,
 "nbformat_minor": 5
}
